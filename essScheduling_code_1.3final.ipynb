{
 "cells": [
  {
   "cell_type": "code",
   "execution_count": 113,
   "id": "cac83dc4",
   "metadata": {},
   "outputs": [],
   "source": [
    "import pandas as pd\n",
    "import numpy as np\n",
    "import matplotlib.pyplot as plt\n",
    "from docplex.mp.model import Model\n",
    "from tensorflow import keras        \n",
    "class EnergyStorage:\n",
    "    def __init__(self, name, maxPower, initTermSOC, maxCapacity, chgEfficiency, disEfficiency):\n",
    "        self.name = name\n",
    "        self.maxPower = maxPower\n",
    "        self.initSOC = initTermSOC[0]\n",
    "        self.termSOC = initTermSOC[1]\n",
    "        self.maxCapacity = maxCapacity\n",
    "        self.chgEfficiency = chgEfficiency\n",
    "        self.disEfficiency = disEfficiency"
   ]
  },
  {
   "cell_type": "code",
   "execution_count": 114,
   "id": "b4ff1484",
   "metadata": {},
   "outputs": [],
   "source": [
    "##### load and pv prediction \n",
    "\n",
    "# upload 0629 INPUT DATA\n",
    "load_0629 = pd.read_csv('climate_2022_0629_0809.csv', encoding = 'cp949')\n",
    "load_0629 = load_0629.fillna(0)\n",
    "a = load_0629.iloc[:24,[1, 4]]\n",
    "\n",
    "X_0629_for_Load_prediction = []\n",
    "for i in range(24):\n",
    "    X_0629_for_Load_prediction.append([i]+list(a.iloc[i,:]))\n",
    "\n",
    "b = load_0629.iloc[:24,[1, 4 ,6, 7]]    \n",
    "X_0629_for_PV_prediction =[]\n",
    "for i in range(24):\n",
    "    X_0629_for_PV_prediction.append(list(b.iloc[i,:]))\n"
   ]
  },
  {
   "cell_type": "code",
   "execution_count": 116,
   "id": "6b5ba26c",
   "metadata": {},
   "outputs": [
    {
     "name": "stdout",
     "output_type": "stream",
     "text": [
      "1/1 [==============================] - 0s 82ms/step\n",
      "1/1 [==============================] - 0s 81ms/step\n",
      "Predicted net load is \n",
      "  [16242.515, 15950.602, 15821.809, 15734.254, 15543.298, 15261.831, 14876.832, 15018.617, 16347.411, 18128.76, 19614.744, 20828.057, 20275.754, 20387.14, 20652.43, 19986.326, 19661.85, 19642.17, 18970.096, 18273.002, 17364.125, 17010.537, 16552.426, 16491.639]\n"
     ]
    },
    {
     "data": {
      "image/png": "[encoded data removed]",
      "text/plain": [
       "<Figure size 432x288 with 2 Axes>"
      ]
     },
     "metadata": {
      "needs_background": "light"
     },
     "output_type": "display_data"
    }
   ],
   "source": [
    "#predict load and PV with saved model\n",
    "load_prediction_model = keras.models.load_model('load_prediction_Junely2.tf')\n",
    "load_predict = load_prediction_model.predict(X_0629_for_Load_prediction)\n",
    "\n",
    "PV_prediction_model = keras.models.load_model('best-model_June_July5.tf')\n",
    "PV_predict = PV_prediction_model.predict(X_0629_for_PV_prediction)\n",
    "\n",
    "fig, axs = plt.subplots(2,1)\n",
    "axs[0].plot(load_predict,'r')\n",
    "axs[0].set_title('2022_0629_load_prediction')\n",
    "axs[1].plot(PV_predict,'r')\n",
    "axs[1].set_title('2022_0629_PV_prediction')\n",
    "plt.subplots_adjust(hspace=0.4)\n",
    "\n",
    "#predicted net load\n",
    "predicted_net_load = load_predict - PV_predict\n",
    "predicted_net_load = [predicted_net_load[i][0] for i in range(24)]\n",
    "print(\"Predicted net load is \\n \", predicted_net_load)"
   ]
  },
  {
   "cell_type": "code",
   "execution_count": 117,
   "id": "a2e7bb6f",
   "metadata": {
    "scrolled": false
   },
   "outputs": [],
   "source": [
    "#Seasonal electricity bill sheet\n",
    "spring_fall_price = [38.8 for i in range(9)]+[53.0]+[72.8 for i in range(2)]+[53.0]+[72.8 for i in range(4)]+[53.0 for i in range(6)]+[38.8]\n",
    "summer_price = [38.8 for i in range(9)]+[82.3]+[145.2 for i in range(2)]+[82.3]+[145.2 for i in range(4)]+[82.4 for i in range(6)]+[38.8]\n",
    "winter_price = [42.6 for i in range(9)]+[80.6]+[117.9 for i in range(2)]+[80.6 for i in range(5)]+[117.9 for i in range(3)]+[80.6 for i in range(2)]+[117.9, 42.6]\n",
    "month = 6\n",
    "if (6 <= month)&(month<=8):\n",
    "    price = summer_price\n",
    "elif (11<=month)|(month<=2):\n",
    "    price = winter_price\n",
    "else:\n",
    "    price = spring_fall_price\n",
    "\n",
    "#Predicted load (considering PV generation)\n",
    "load = predicted_net_load \n",
    "\n",
    "SOC_ESS_MIN = 0.2\n",
    "SOC_ESS_MAX = 0.8\n",
    "SOC_ESS_INIT = 0.5\n",
    "SOC_ESS_TERM = 0.5\n",
    "chgEfficiency = 1\n",
    "disEfficiency = 0.93\n",
    "maxPower = 1000   #BESS 용량을 1000kw/7500kwh 라고 가정하였습니다.\n",
    "maxCapacity = 7500\n",
    "\n",
    "gistEss = EnergyStorage('gistESS', maxPower, [SOC_ESS_INIT, SOC_ESS_TERM], maxCapacity, chgEfficiency, disEfficiency)\n",
    "\n",
    "### Set number of variables\n",
    "nTimeslot = len(load)"
   ]
  },
  {
   "cell_type": "code",
   "execution_count": 149,
   "id": "c5967a98",
   "metadata": {},
   "outputs": [
    {
     "data": {
      "text/plain": [
       "[38.8,\n",
       " 38.8,\n",
       " 38.8,\n",
       " 38.8,\n",
       " 38.8,\n",
       " 38.8,\n",
       " 38.8,\n",
       " 38.8,\n",
       " 38.8,\n",
       " 82.3,\n",
       " 145.2,\n",
       " 145.2,\n",
       " 82.3,\n",
       " 145.2,\n",
       " 145.2,\n",
       " 145.2,\n",
       " 145.2,\n",
       " 82.4,\n",
       " 82.4,\n",
       " 82.4,\n",
       " 82.4,\n",
       " 82.4,\n",
       " 82.4,\n",
       " 38.8]"
      ]
     },
     "execution_count": 149,
     "metadata": {},
     "output_type": "execute_result"
    }
   ],
   "source": [
    "price"
   ]
  },
  {
   "cell_type": "code",
   "execution_count": 119,
   "id": "b9deed5c",
   "metadata": {},
   "outputs": [
    {
     "data": {
      "text/plain": [
       "docplex.mp.LinearConstraint[](0.000x1+0.000x2+0.000x3+0.000x4+0.000x5+0.000x6+0.000x7+0.000x8+0.000x9+0.000x10+0.000x11+0.000x12+0.000x13+0.000x14+0.000x15+0.000x16+0.000x17+0.000x18+0.000x19+0.000x20+0.000x21+0.000x22+0.000x23+0.000x24-0.000x25-0.000x26-0.000x27-0.000x28-0.000x29-0.000x30-0.000x31-0.000x32-0.000x33-0.000x34-0.000x35-0.000x36-0.000x37-0.000x38-0.000x39-0.000x40-0.000x41-0.000x42-0.000x43-0.000x44-0.000x45-0.000x46-0.000x47-0.000x48+0.500,EQ,0.5)"
      ]
     },
     "execution_count": 119,
     "metadata": {},
     "output_type": "execute_result"
    }
   ],
   "source": [
    "m = Model(name='Unit Commitment')\n",
    "\n",
    "# 변수 생성\n",
    "P_essChg = m.continuous_var_list(nTimeslot, lb=0, ub=maxPower)\n",
    "P_essDis = m.continuous_var_list(nTimeslot, lb=0, ub=maxPower)\n",
    "U_essChg = m.binary_var_list(nTimeslot)\n",
    "U_essDis = m.binary_var_list(nTimeslot)\n",
    "\n",
    "########## 제약조건 ##########\n",
    "for i in range(nTimeslot):\n",
    "    m.add_constraint( P_essDis[i] <= U_essDis[i]*gistEss.maxPower )# 최대출력 제약\n",
    "    m.add_constraint( P_essChg[i] <= U_essChg[i]*gistEss.maxPower )# 최대출력 제약\n",
    "    m.add_constraint( U_essDis[i] + U_essChg[i] <= 1 ) #동시 충방전 방지\n",
    "    m.add_constraint( P_essDis[i] <= load[i] ) #부하 이상의 전력은 방전 불가.\n",
    "    \n",
    "### SOC 제약 ###\n",
    "#최대(0.8) 최소(0.2) SOC 제약\n",
    "for i in range(nTimeslot):\n",
    "        m.add_constraint( gistEss.initSOC\n",
    "                          - sum(P_essDis[k]/gistEss.disEfficiency/gistEss.maxCapacity\n",
    "                                for k in range(i + 1))\n",
    "                          + sum(P_essChg[k]*gistEss.chgEfficiency/gistEss.maxCapacity\n",
    "                                for k in range(i + 1)) <=  SOC_ESS_MAX )\n",
    "        m.add_constraint( gistEss.initSOC\n",
    "                          - sum(P_essDis[k]/gistEss.disEfficiency/gistEss.maxCapacity\n",
    "                                for k in range(i + 1))\n",
    "                          + sum(P_essChg[k]*gistEss.chgEfficiency/gistEss.maxCapacity\n",
    "                                for k in range(i + 1)) >=  SOC_ESS_MIN )\n",
    "        \n",
    "#24시간마다 termSOC(0.5) 유지 제약\n",
    "m.add_constraint(gistEss.initSOC \n",
    "                 - sum(P_essDis[k]/gistEss.disEfficiency/gistEss.maxCapacity for k in range(nTimeslot))\n",
    "                 + sum(P_essChg[k]*gistEss.chgEfficiency/gistEss.maxCapacity for k in range(nTimeslot))\n",
    "                 ==  gistEss.termSOC )\n",
    "    \n",
    "\n"
   ]
  },
  {
   "cell_type": "code",
   "execution_count": 120,
   "id": "80be9848",
   "metadata": {
    "scrolled": true
   },
   "outputs": [
    {
     "name": "stdout",
     "output_type": "stream",
     "text": [
      "Model: Unit Commitment\n",
      " - number of variables: 96\n",
      "   - binary=48, integer=0, continuous=48\n",
      " - number of constraints: 145\n",
      "   - linear=145\n",
      " - parameters: defaults\n",
      " - objective: minimize\n",
      " - problem type is: MILP\n",
      "35304092.66972655\n"
     ]
    }
   ],
   "source": [
    "### 목적함수\n",
    "m.set_objective(\"min\", sum((load[i]+P_essChg[i]-P_essDis[i])*price[i] for i in range(24)))\n",
    "                               \n",
    "m.print_information()\n",
    "sol = m.solve()\n",
    "print(m.objective_value)\n",
    "\n",
    "### Solution 저장\n",
    "\n",
    "P_essDisSol = np.zeros([nTimeslot])\n",
    "P_essChgSol = np.zeros([nTimeslot])\n",
    "U_essDisSol = np.zeros([nTimeslot])\n",
    "U_essChgSol = np.zeros([nTimeslot])\n",
    "\n",
    "socEss = np.zeros([nTimeslot])\n",
    "for i in range(nTimeslot):\n",
    "        P_essDisSol[i] = sol.get_value(P_essDis[i])\n",
    "        P_essChgSol[i] = sol.get_value(P_essChg[i])\n",
    "        U_essDisSol[i] = sol.get_value(U_essDis[i])\n",
    "         \n",
    "        U_essChgSol[i] = sol.get_value(U_essChg[i])\n",
    "        socEss[i] = (gistEss.initSOC \n",
    "                        - sum(P_essDisSol[k]/gistEss.disEfficiency/gistEss.maxCapacity for k in range(i + 1)) \n",
    "                        + sum(P_essChgSol[k]*gistEss.chgEfficiency/gistEss.maxCapacity for k in range(i + 1)))"
   ]
  },
  {
   "cell_type": "code",
   "execution_count": 146,
   "id": "97db1ed9",
   "metadata": {
    "scrolled": true
   },
   "outputs": [
    {
     "name": "stdout",
     "output_type": "stream",
     "text": [
      "[ -250. -1000. -1000.     0.     0.     0.     0.     0.     0.     0.\n",
      "  1000.  1000. -1000.  1000.  1000.  1000.   115.  -250.     0.     0.\n",
      "     0.     0. -1000. -1000.]\n"
     ]
    },
    {
     "data": {
      "image/png": "[encoded data removed]",
      "text/plain": [
       "<Figure size 504x576 with 3 Axes>"
      ]
     },
     "metadata": {
      "needs_background": "light"
     },
     "output_type": "display_data"
    }
   ],
   "source": [
    "hours = np.arange(24)\n",
    "fig, axs = plt.subplots(3,1, figsize = (7,8))\n",
    "axs[0].bar(hours, socEss)\n",
    "axs[0].set_title('SOC')\n",
    "axs[1].bar(hours, P_essDisSol, label='P_essDis')\n",
    "axs[1].bar(hours, P_essChgSol, label='P_essChg')\n",
    "axs[1].legend()\n",
    "axs[1].set_title('Charge and discharge amount')\n",
    "axs[2].bar(hours, price)\n",
    "axs[2].set_title('Hourly electricity price')\n",
    "plt.subplots_adjust(hspace=0.5)\n",
    "print(P_essDisSol-P_essChgSol)"
   ]
  },
  {
   "cell_type": "code",
   "execution_count": 148,
   "id": "ca18fc65",
   "metadata": {},
   "outputs": [
    {
     "data": {
      "text/plain": [
       "array([[16242.517],\n",
       "       [15950.604],\n",
       "       [15821.811],\n",
       "       [15734.256],\n",
       "       [15543.301],\n",
       "       [15261.834],\n",
       "       [14876.835],\n",
       "       [15055.248],\n",
       "       [16471.184],\n",
       "       [18348.62 ],\n",
       "       [19992.418],\n",
       "       [21162.854],\n",
       "       [20624.404],\n",
       "       [20630.926],\n",
       "       [20845.986],\n",
       "       [20261.896],\n",
       "       [19836.295],\n",
       "       [19686.467],\n",
       "       [18975.436],\n",
       "       [18273.006],\n",
       "       [17364.127],\n",
       "       [17010.54 ],\n",
       "       [16552.428],\n",
       "       [16491.64 ]], dtype=float32)"
      ]
     },
     "execution_count": 148,
     "metadata": {},
     "output_type": "execute_result"
    }
   ],
   "source": [
    "load_predict"
   ]
  },
  {
   "cell_type": "code",
   "execution_count": 147,
   "id": "b8ed0e5a",
   "metadata": {},
   "outputs": [
    {
     "data": {
      "text/plain": [
       "array([[2.39221007e-03],\n",
       "       [2.40913406e-03],\n",
       "       [2.38292664e-03],\n",
       "       [2.36250833e-03],\n",
       "       [2.45207548e-03],\n",
       "       [2.78840959e-03],\n",
       "       [3.28526646e-03],\n",
       "       [3.66307373e+01],\n",
       "       [1.23771996e+02],\n",
       "       [2.19858932e+02],\n",
       "       [3.77674316e+02],\n",
       "       [3.34796783e+02],\n",
       "       [3.48651093e+02],\n",
       "       [2.43785370e+02],\n",
       "       [1.93556580e+02],\n",
       "       [2.75569550e+02],\n",
       "       [1.74445206e+02],\n",
       "       [4.42978172e+01],\n",
       "       [5.34018660e+00],\n",
       "       [3.05193663e-03],\n",
       "       [2.44216621e-03],\n",
       "       [2.43936479e-03],\n",
       "       [2.35953927e-03],\n",
       "       [2.44776905e-03]], dtype=float32)"
      ]
     },
     "execution_count": 147,
     "metadata": {},
     "output_type": "execute_result"
    }
   ],
   "source": [
    "PV_predict"
   ]
  },
  {
   "cell_type": "code",
   "execution_count": null,
   "id": "686fce58",
   "metadata": {},
   "outputs": [],
   "source": []
  }
 ],
 "metadata": {
  "kernelspec": {
   "display_name": "Python 3 (ipykernel)",
   "language": "python",
   "name": "python3"
  },
  "language_info": {
   "codemirror_mode": {
    "name": "ipython",
    "version": 3
   },
   "file_extension": ".py",
   "mimetype": "text/x-python",
   "name": "python",
   "nbconvert_exporter": "python",
   "pygments_lexer": "ipython3",
   "version": "3.9.12"
  },
  "vscode": {
   "interpreter": {
    "hash": "c5b2cf58eb262e448e069a8fb250af4ddc64119e452df3d7801e6baffe9deb66"
   }
  }
 },
 "nbformat": 4,
 "nbformat_minor": 5
}
